{
 "cells": [
  {
   "cell_type": "code",
   "execution_count": 6,
   "id": "b8833e3a",
   "metadata": {},
   "outputs": [
    {
     "name": "stdout",
     "output_type": "stream",
     "text": [
      "2\n"
     ]
    }
   ],
   "source": [
    "class even(object):\n",
    "    def findnumbers(self,nums):\n",
    "        str_num=map(str,nums)\n",
    "        c=0\n",
    "        for i in str_num:\n",
    "            if len(i) % 2 == 0:\n",
    "                c += 1\n",
    "        return c\n",
    "ob1=even()\n",
    "print(ob1.findnumbers([12,345,2,6,7817]))\n",
    "            "
   ]
  },
  {
   "cell_type": "code",
   "execution_count": null,
   "id": "127d5293",
   "metadata": {},
   "outputs": [],
   "source": []
  }
 ],
 "metadata": {
  "kernelspec": {
   "display_name": "Python 3 (ipykernel)",
   "language": "python",
   "name": "python3"
  },
  "language_info": {
   "codemirror_mode": {
    "name": "ipython",
    "version": 3
   },
   "file_extension": ".py",
   "mimetype": "text/x-python",
   "name": "python",
   "nbconvert_exporter": "python",
   "pygments_lexer": "ipython3",
   "version": "3.9.12"
  }
 },
 "nbformat": 4,
 "nbformat_minor": 5
}
