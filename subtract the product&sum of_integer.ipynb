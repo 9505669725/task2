{
 "cells": [
  {
   "cell_type": "code",
   "execution_count": 3,
   "id": "498d8919",
   "metadata": {},
   "outputs": [
    {
     "name": "stdout",
     "output_type": "stream",
     "text": [
      "15\n"
     ]
    }
   ],
   "source": [
    "def subtract_prodandsum(num):\n",
    "    prod=1\n",
    "    s=0\n",
    "    while num>0:\n",
    "        d=num%10\n",
    "        prod*=d\n",
    "        s+=d\n",
    "        num//=10\n",
    "    return prod-s\n",
    "num=234\n",
    "print(subtract_prodandsum(num))\n",
    "    \n",
    "    "
   ]
  },
  {
   "cell_type": "code",
   "execution_count": null,
   "id": "a0b61ab3",
   "metadata": {},
   "outputs": [],
   "source": []
  }
 ],
 "metadata": {
  "kernelspec": {
   "display_name": "Python 3 (ipykernel)",
   "language": "python",
   "name": "python3"
  },
  "language_info": {
   "codemirror_mode": {
    "name": "ipython",
    "version": 3
   },
   "file_extension": ".py",
   "mimetype": "text/x-python",
   "name": "python",
   "nbconvert_exporter": "python",
   "pygments_lexer": "ipython3",
   "version": "3.9.12"
  }
 },
 "nbformat": 4,
 "nbformat_minor": 5
}
