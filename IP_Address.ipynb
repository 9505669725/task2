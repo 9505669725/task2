{
 "cells": [
  {
   "cell_type": "code",
   "execution_count": 4,
   "id": "c54d718e",
   "metadata": {},
   "outputs": [
    {
     "name": "stdout",
     "output_type": "stream",
     "text": [
      "192[.]168[.]4[.]1\n"
     ]
    }
   ],
   "source": [
    "class addr(object):\n",
    "    def defangIpaddr(self,address):\n",
    "        address=address.split(\".\")\n",
    "        return\"[.]\".join(address)\n",
    "ob1=addr()\n",
    "print(ob1.defangIpaddr(\"192.168.4.1\"))\n",
    "        "
   ]
  },
  {
   "cell_type": "code",
   "execution_count": null,
   "id": "09badf16",
   "metadata": {},
   "outputs": [],
   "source": []
  }
 ],
 "metadata": {
  "kernelspec": {
   "display_name": "Python 3 (ipykernel)",
   "language": "python",
   "name": "python3"
  },
  "language_info": {
   "codemirror_mode": {
    "name": "ipython",
    "version": 3
   },
   "file_extension": ".py",
   "mimetype": "text/x-python",
   "name": "python",
   "nbconvert_exporter": "python",
   "pygments_lexer": "ipython3",
   "version": "3.9.12"
  }
 },
 "nbformat": 4,
 "nbformat_minor": 5
}
